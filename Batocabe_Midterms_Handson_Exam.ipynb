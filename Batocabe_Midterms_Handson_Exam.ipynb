version https://git-lfs.github.com/spec/v1
oid sha256:61ec5b7295372a93cef45d1cc0f7ce0b090e7724e8e02d2f787c25bb0d9c181c
size 33125838
