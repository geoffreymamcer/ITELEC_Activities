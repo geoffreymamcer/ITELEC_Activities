version https://git-lfs.github.com/spec/v1
oid sha256:7c067f1a69888e8d67ae8dd3b18bd0f3f8c4a6786a4ddd68e05d07542016e67b
size 60378
