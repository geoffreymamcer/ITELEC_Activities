{
 "cells": [
  {
   "cell_type": "code",
   "execution_count": 1,
   "id": "9fcd6306-af07-42c4-b13a-0255994104f3",
   "metadata": {},
   "outputs": [],
   "source": [
    "import pandas as pd\n",
    "import numpy as np\n",
    "from scipy.stats import f_oneway"
   ]
  },
  {
   "cell_type": "code",
   "execution_count": 2,
   "id": "86cdf88f-347e-4626-ac08-be6761c6794e",
   "metadata": {},
   "outputs": [],
   "source": [
    "df = pd.read_csv(\"penguins.csv\")"
   ]
  },
  {
   "cell_type": "markdown",
   "id": "1736f624-73e4-49cf-874e-70d417b43c25",
   "metadata": {},
   "source": [
    "<h1>Data Cleaning Procedure</h1>"
   ]
  },
  {
   "cell_type": "code",
   "execution_count": 3,
   "id": "c90f8817-068b-42b1-a7ca-c782aa9be608",
   "metadata": {},
   "outputs": [],
   "source": [
    "fill_values = {\n",
    "    'body_mass_g': df['body_mass_g'].mean(),\n",
    "    'bill_length_mm': df['bill_length_mm'].mean(),\n",
    "    'bill_depth_mm': df['bill_depth_mm'].mean(),\n",
    "    'flipper_length_mm': df['flipper_length_mm'].mean(),\n",
    "    'sex': df['sex'].mode()[0]\n",
    "}"
   ]
  },
  {
   "cell_type": "code",
   "execution_count": 4,
   "id": "9fb2de19-89c2-490e-8993-a15ab4485ea8",
   "metadata": {},
   "outputs": [],
   "source": [
    "cleaned_df = df.fillna(value=fill_values)"
   ]
  },
  {
   "cell_type": "markdown",
   "id": "54edeb19-68cb-469a-b9b8-603439a27f67",
   "metadata": {},
   "source": [
    "<h1>Question No.1: What are the average bill length, bill depth, flipper length, and body mass for each unique species?\n",
    "</h1>"
   ]
  },
  {
   "cell_type": "code",
   "execution_count": 5,
   "id": "c00e1436-d186-4b7e-8c5a-1a4eba04bcfa",
   "metadata": {},
   "outputs": [
    {
     "data": {
      "text/html": [
       "<div>\n",
       "<style scoped>\n",
       "    .dataframe tbody tr th:only-of-type {\n",
       "        vertical-align: middle;\n",
       "    }\n",
       "\n",
       "    .dataframe tbody tr th {\n",
       "        vertical-align: top;\n",
       "    }\n",
       "\n",
       "    .dataframe thead th {\n",
       "        text-align: right;\n",
       "    }\n",
       "</style>\n",
       "<table border=\"1\" class=\"dataframe\">\n",
       "  <thead>\n",
       "    <tr style=\"text-align: right;\">\n",
       "      <th></th>\n",
       "      <th>bill_length_mm</th>\n",
       "      <th>bill_depth_mm</th>\n",
       "      <th>flipper_length_mm</th>\n",
       "      <th>body_mass_g</th>\n",
       "    </tr>\n",
       "    <tr>\n",
       "      <th>species</th>\n",
       "      <th></th>\n",
       "      <th></th>\n",
       "      <th></th>\n",
       "      <th></th>\n",
       "    </tr>\n",
       "  </thead>\n",
       "  <tbody>\n",
       "    <tr>\n",
       "      <th>Adelie</th>\n",
       "      <td>38.825144</td>\n",
       "      <td>18.338495</td>\n",
       "      <td>190.025758</td>\n",
       "      <td>3703.958910</td>\n",
       "    </tr>\n",
       "    <tr>\n",
       "      <th>Chinstrap</th>\n",
       "      <td>48.833824</td>\n",
       "      <td>18.420588</td>\n",
       "      <td>195.823529</td>\n",
       "      <td>3733.088235</td>\n",
       "    </tr>\n",
       "    <tr>\n",
       "      <th>Gentoo</th>\n",
       "      <td>47.475983</td>\n",
       "      <td>14.999606</td>\n",
       "      <td>217.055768</td>\n",
       "      <td>5068.965761</td>\n",
       "    </tr>\n",
       "  </tbody>\n",
       "</table>\n",
       "</div>"
      ],
      "text/plain": [
       "           bill_length_mm  bill_depth_mm  flipper_length_mm  body_mass_g\n",
       "species                                                                 \n",
       "Adelie          38.825144      18.338495         190.025758  3703.958910\n",
       "Chinstrap       48.833824      18.420588         195.823529  3733.088235\n",
       "Gentoo          47.475983      14.999606         217.055768  5068.965761"
      ]
     },
     "execution_count": 5,
     "metadata": {},
     "output_type": "execute_result"
    }
   ],
   "source": [
    "cleaned_df.groupby('species')[['bill_length_mm', 'bill_depth_mm', 'flipper_length_mm', 'body_mass_g']].mean()"
   ]
  },
  {
   "cell_type": "markdown",
   "id": "ce17f302-509a-4afe-817f-a6bf11dc5f4a",
   "metadata": {},
   "source": [
    "<h3>Insight No.1: </h3>\n",
    "<ul>\n",
    "    <li><strong>Gentoo penguins are the largest of the three species.</li>\n",
    "    <li><strong>Chinstrap penguins have the longest average bill length.</li>\n",
    "    <li><strong>Adelie penguins have the shortest average flipper length and bill length.</strong> </li>\n",
    "    <li><strong>Gentoo penguins have the narrowest bills.</strong></li>\n",
    "    <li><strong>Adelie and Chinstrap penguins have very similar bill depths.</strong></li>\n",
    "    <li><strong>There is a notable difference in the average body mass between the species.</strong> </li>\n",
    "</ul>"
   ]
  },
  {
   "cell_type": "markdown",
   "id": "41712923-6782-4119-bdd5-20d24acc30ec",
   "metadata": {},
   "source": [
    "<h1>Question No.2: Rank the 3 species' overall body size based on their body mass and flipper length </h1>"
   ]
  },
  {
   "cell_type": "code",
   "execution_count": 6,
   "id": "873fc149-1640-40a2-b2da-d092dc094093",
   "metadata": {},
   "outputs": [],
   "source": [
    "averages = cleaned_df.groupby('species')[['flipper_length_mm', 'body_mass_g']].mean()"
   ]
  },
  {
   "cell_type": "code",
   "execution_count": 7,
   "id": "aeb42d32-13cf-4833-847c-f5956d7bab19",
   "metadata": {},
   "outputs": [
    {
     "data": {
      "text/html": [
       "<div>\n",
       "<style scoped>\n",
       "    .dataframe tbody tr th:only-of-type {\n",
       "        vertical-align: middle;\n",
       "    }\n",
       "\n",
       "    .dataframe tbody tr th {\n",
       "        vertical-align: top;\n",
       "    }\n",
       "\n",
       "    .dataframe thead th {\n",
       "        text-align: right;\n",
       "    }\n",
       "</style>\n",
       "<table border=\"1\" class=\"dataframe\">\n",
       "  <thead>\n",
       "    <tr style=\"text-align: right;\">\n",
       "      <th></th>\n",
       "      <th>flipper_length_mm</th>\n",
       "      <th>body_mass_g</th>\n",
       "    </tr>\n",
       "    <tr>\n",
       "      <th>species</th>\n",
       "      <th></th>\n",
       "      <th></th>\n",
       "    </tr>\n",
       "  </thead>\n",
       "  <tbody>\n",
       "    <tr>\n",
       "      <th>Gentoo</th>\n",
       "      <td>217.055768</td>\n",
       "      <td>5068.965761</td>\n",
       "    </tr>\n",
       "    <tr>\n",
       "      <th>Chinstrap</th>\n",
       "      <td>195.823529</td>\n",
       "      <td>3733.088235</td>\n",
       "    </tr>\n",
       "    <tr>\n",
       "      <th>Adelie</th>\n",
       "      <td>190.025758</td>\n",
       "      <td>3703.958910</td>\n",
       "    </tr>\n",
       "  </tbody>\n",
       "</table>\n",
       "</div>"
      ],
      "text/plain": [
       "           flipper_length_mm  body_mass_g\n",
       "species                                  \n",
       "Gentoo            217.055768  5068.965761\n",
       "Chinstrap         195.823529  3733.088235\n",
       "Adelie            190.025758  3703.958910"
      ]
     },
     "execution_count": 7,
     "metadata": {},
     "output_type": "execute_result"
    }
   ],
   "source": [
    "averages.sort_values(by=['flipper_length_mm', 'body_mass_g'], ascending=False)"
   ]
  },
  {
   "cell_type": "markdown",
   "id": "72059546-61ed-4b65-ac7f-aac9fbc82ec9",
   "metadata": {},
   "source": [
    "<h3>Insight No. 2: </h3>\n",
    "<p>Gentoo penguins are the biggest species due to their longer flippers and body mass in comparison to two other species</p>"
   ]
  },
  {
   "cell_type": "markdown",
   "id": "71041e2a-7d93-49c6-9313-9817427af718",
   "metadata": {},
   "source": [
    "<h1>Question No. 3: What is the average body mass for each sex for each species?</h1>"
   ]
  },
  {
   "cell_type": "code",
   "execution_count": 8,
   "id": "77e03056-93f1-4c38-a87a-abea9b55af12",
   "metadata": {},
   "outputs": [
    {
     "data": {
      "text/html": [
       "<div>\n",
       "<style scoped>\n",
       "    .dataframe tbody tr th:only-of-type {\n",
       "        vertical-align: middle;\n",
       "    }\n",
       "\n",
       "    .dataframe tbody tr th {\n",
       "        vertical-align: top;\n",
       "    }\n",
       "\n",
       "    .dataframe thead th {\n",
       "        text-align: right;\n",
       "    }\n",
       "</style>\n",
       "<table border=\"1\" class=\"dataframe\">\n",
       "  <thead>\n",
       "    <tr style=\"text-align: right;\">\n",
       "      <th></th>\n",
       "      <th>species</th>\n",
       "      <th>sex</th>\n",
       "      <th>body_mass_g</th>\n",
       "    </tr>\n",
       "  </thead>\n",
       "  <tbody>\n",
       "    <tr>\n",
       "      <th>0</th>\n",
       "      <td>Adelie</td>\n",
       "      <td>female</td>\n",
       "      <td>3368.835616</td>\n",
       "    </tr>\n",
       "    <tr>\n",
       "      <th>1</th>\n",
       "      <td>Adelie</td>\n",
       "      <td>male</td>\n",
       "      <td>4013.629802</td>\n",
       "    </tr>\n",
       "    <tr>\n",
       "      <th>2</th>\n",
       "      <td>Chinstrap</td>\n",
       "      <td>female</td>\n",
       "      <td>3527.205882</td>\n",
       "    </tr>\n",
       "    <tr>\n",
       "      <th>3</th>\n",
       "      <td>Chinstrap</td>\n",
       "      <td>male</td>\n",
       "      <td>3938.970588</td>\n",
       "    </tr>\n",
       "    <tr>\n",
       "      <th>4</th>\n",
       "      <td>Gentoo</td>\n",
       "      <td>female</td>\n",
       "      <td>4679.741379</td>\n",
       "    </tr>\n",
       "    <tr>\n",
       "      <th>5</th>\n",
       "      <td>Gentoo</td>\n",
       "      <td>male</td>\n",
       "      <td>5411.011430</td>\n",
       "    </tr>\n",
       "  </tbody>\n",
       "</table>\n",
       "</div>"
      ],
      "text/plain": [
       "     species     sex  body_mass_g\n",
       "0     Adelie  female  3368.835616\n",
       "1     Adelie    male  4013.629802\n",
       "2  Chinstrap  female  3527.205882\n",
       "3  Chinstrap    male  3938.970588\n",
       "4     Gentoo  female  4679.741379\n",
       "5     Gentoo    male  5411.011430"
      ]
     },
     "execution_count": 8,
     "metadata": {},
     "output_type": "execute_result"
    }
   ],
   "source": [
    "cleaned_df[['species', 'sex', 'body_mass_g']].groupby(['species', 'sex'])['body_mass_g'].mean().reset_index()"
   ]
  },
  {
   "cell_type": "markdown",
   "id": "f252ea38-f35d-44c1-a931-c95c1f285dc5",
   "metadata": {},
   "source": [
    "<h3>Insight No. 3: </h3>\n",
    "<ul>\n",
    "    <li>Gentoo penguins are the heaviest species, with both males and females having the highest average body mass.</li>\n",
    "    <li>Chinstrap penguins are the lightest species, with both males and females having the lowest average body mass.</li>\n",
    "    <li>Adelie penguins are in the middle, with their average body masses falling between the Chinstrap and Gentoo species.</li>\n",
    "</ul>\n"
   ]
  },
  {
   "cell_type": "markdown",
   "id": "73fdb5bc-c6d0-48ec-a52b-7b928868a8d4",
   "metadata": {},
   "source": [
    "<h1>Question No. 4: What is the difference in average flipper length between male and female penguins?<h1>"
   ]
  },
  {
   "cell_type": "code",
   "execution_count": 9,
   "id": "e2a1d290-2b77-40c9-bb7f-286164edb5fe",
   "metadata": {},
   "outputs": [
    {
     "data": {
      "text/plain": [
       "np.float64(6.825360336680546)"
      ]
     },
     "execution_count": 9,
     "metadata": {},
     "output_type": "execute_result"
    }
   ],
   "source": [
    "mean_lengths = cleaned_df.groupby('sex')['flipper_length_mm'].mean().reset_index()\n",
    "male_mean = mean_lengths[mean_lengths['sex'] == 'male']['flipper_length_mm'].iloc[0]\n",
    "female_mean = mean_lengths[mean_lengths['sex'] == 'female']['flipper_length_mm'].iloc[0]\n",
    "male_mean - female_mean\n",
    "\n"
   ]
  },
  {
   "cell_type": "markdown",
   "id": "dde4011d-c509-4ddc-b307-24b90a827f90",
   "metadata": {},
   "source": [
    "<h3>Insight No. 4</h3>\n",
    "<p>Male penguins generally have longer flippers on average than females.</p>\n",
    "<p>The difference (about 7 mm in the Palmer Penguins dataset) is consistent with biological expectations since males tend to be slightly larger.</p>\n",
    "\n",
    "\n"
   ]
  },
  {
   "cell_type": "markdown",
   "id": "d7b3f1ec-a23e-4ee2-a805-98e7239abd83",
   "metadata": {},
   "source": [
    "<h1>Question No.5: What island has the highest average body mass among penguins?</h1>"
   ]
  },
  {
   "cell_type": "code",
   "execution_count": 10,
   "id": "35888a58-07a1-4903-b993-653533edbd63",
   "metadata": {},
   "outputs": [
    {
     "data": {
      "text/html": [
       "<div>\n",
       "<style scoped>\n",
       "    .dataframe tbody tr th:only-of-type {\n",
       "        vertical-align: middle;\n",
       "    }\n",
       "\n",
       "    .dataframe tbody tr th {\n",
       "        vertical-align: top;\n",
       "    }\n",
       "\n",
       "    .dataframe thead th {\n",
       "        text-align: right;\n",
       "    }\n",
       "</style>\n",
       "<table border=\"1\" class=\"dataframe\">\n",
       "  <thead>\n",
       "    <tr style=\"text-align: right;\">\n",
       "      <th></th>\n",
       "      <th>island</th>\n",
       "      <th>body_mass_g</th>\n",
       "    </tr>\n",
       "  </thead>\n",
       "  <tbody>\n",
       "    <tr>\n",
       "      <th>0</th>\n",
       "      <td>Biscoe</td>\n",
       "      <td>4712.956871</td>\n",
       "    </tr>\n",
       "    <tr>\n",
       "      <th>1</th>\n",
       "      <td>Dream</td>\n",
       "      <td>3712.903226</td>\n",
       "    </tr>\n",
       "    <tr>\n",
       "      <th>2</th>\n",
       "      <td>Torgersen</td>\n",
       "      <td>3715.899123</td>\n",
       "    </tr>\n",
       "  </tbody>\n",
       "</table>\n",
       "</div>"
      ],
      "text/plain": [
       "      island  body_mass_g\n",
       "0     Biscoe  4712.956871\n",
       "1      Dream  3712.903226\n",
       "2  Torgersen  3715.899123"
      ]
     },
     "execution_count": 10,
     "metadata": {},
     "output_type": "execute_result"
    }
   ],
   "source": [
    "cleaned_df.groupby('island')['body_mass_g'].mean().reset_index()\n"
   ]
  },
  {
   "cell_type": "markdown",
   "id": "5c0cbf4f-7711-4659-8d61-1bcd160c8fae",
   "metadata": {},
   "source": [
    "<h3>Insight No. 5: </h3>\n",
    "<ul>\n",
    "    <li>The Biscoe island has the highest average penguin body mass, at approximately 4712.96 grams.</li>\n",
    "    <li>The Dream and Torgersen islands have very similar average body masses, both significantly lower than Biscoe.\n",
    "\n",
    "</li>\n",
    "        <li>Dream's average is approximately 3712.90 grams.</li>\n",
    "        <li>Torgersen's average is approximately 3715.90 grams.</li>\n",
    "</ul>\n"
   ]
  },
  {
   "cell_type": "markdown",
   "id": "9738499c-7df3-4a63-9c22-da2ba56b42c6",
   "metadata": {},
   "source": [
    "<h1>Question No. 6: What is the distribution of sex on each island?</h1>"
   ]
  },
  {
   "cell_type": "code",
   "execution_count": 11,
   "id": "d0aff53c-6aab-4a51-9d89-032b4aff2b72",
   "metadata": {},
   "outputs": [
    {
     "data": {
      "text/html": [
       "<div>\n",
       "<style scoped>\n",
       "    .dataframe tbody tr th:only-of-type {\n",
       "        vertical-align: middle;\n",
       "    }\n",
       "\n",
       "    .dataframe tbody tr th {\n",
       "        vertical-align: top;\n",
       "    }\n",
       "\n",
       "    .dataframe thead th {\n",
       "        text-align: right;\n",
       "    }\n",
       "</style>\n",
       "<table border=\"1\" class=\"dataframe\">\n",
       "  <thead>\n",
       "    <tr style=\"text-align: right;\">\n",
       "      <th></th>\n",
       "      <th></th>\n",
       "      <th>species</th>\n",
       "    </tr>\n",
       "    <tr>\n",
       "      <th>sex</th>\n",
       "      <th>island</th>\n",
       "      <th></th>\n",
       "    </tr>\n",
       "  </thead>\n",
       "  <tbody>\n",
       "    <tr>\n",
       "      <th rowspan=\"3\" valign=\"top\">female</th>\n",
       "      <th>Biscoe</th>\n",
       "      <td>80</td>\n",
       "    </tr>\n",
       "    <tr>\n",
       "      <th>Dream</th>\n",
       "      <td>61</td>\n",
       "    </tr>\n",
       "    <tr>\n",
       "      <th>Torgersen</th>\n",
       "      <td>24</td>\n",
       "    </tr>\n",
       "    <tr>\n",
       "      <th rowspan=\"3\" valign=\"top\">male</th>\n",
       "      <th>Biscoe</th>\n",
       "      <td>88</td>\n",
       "    </tr>\n",
       "    <tr>\n",
       "      <th>Dream</th>\n",
       "      <td>63</td>\n",
       "    </tr>\n",
       "    <tr>\n",
       "      <th>Torgersen</th>\n",
       "      <td>28</td>\n",
       "    </tr>\n",
       "  </tbody>\n",
       "</table>\n",
       "</div>"
      ],
      "text/plain": [
       "                  species\n",
       "sex    island            \n",
       "female Biscoe          80\n",
       "       Dream           61\n",
       "       Torgersen       24\n",
       "male   Biscoe          88\n",
       "       Dream           63\n",
       "       Torgersen       28"
      ]
     },
     "execution_count": 11,
     "metadata": {},
     "output_type": "execute_result"
    }
   ],
   "source": [
    "cleaned_df[['sex', 'island', 'species']].groupby(['sex', 'island']).count()"
   ]
  },
  {
   "cell_type": "markdown",
   "id": "de71fd42-4e3d-4a63-b011-70fbfbdf45e1",
   "metadata": {},
   "source": [
    "<h3>Insight No.6: </h3>\n",
    "<ul>\n",
    "    <li>Biscoe has the highest number of individuals, with 88 males and 80 females.</li>\n",
    "    <li>Dream has a moderate population, with 63 males and 61 females.</li>\n",
    "    <li>Torgersen has the lowest population, with 28 males and 24 females.</li>\n",
    "</ul>"
   ]
  },
  {
   "cell_type": "markdown",
   "id": "f95e3287-b7b9-4afa-8684-7d42a37ab185",
   "metadata": {},
   "source": [
    "<h1>Question No. 7: What species–island combination shows the largest average bill length?</h1>"
   ]
  },
  {
   "cell_type": "code",
   "execution_count": 12,
   "id": "3df97495-82d7-4bfc-a7f0-5dca3fe01d61",
   "metadata": {},
   "outputs": [
    {
     "data": {
      "text/html": [
       "<div>\n",
       "<style scoped>\n",
       "    .dataframe tbody tr th:only-of-type {\n",
       "        vertical-align: middle;\n",
       "    }\n",
       "\n",
       "    .dataframe tbody tr th {\n",
       "        vertical-align: top;\n",
       "    }\n",
       "\n",
       "    .dataframe thead th {\n",
       "        text-align: right;\n",
       "    }\n",
       "</style>\n",
       "<table border=\"1\" class=\"dataframe\">\n",
       "  <thead>\n",
       "    <tr style=\"text-align: right;\">\n",
       "      <th></th>\n",
       "      <th>species</th>\n",
       "      <th>island</th>\n",
       "      <th>bill length</th>\n",
       "    </tr>\n",
       "  </thead>\n",
       "  <tbody>\n",
       "    <tr>\n",
       "      <th>0</th>\n",
       "      <td>Adelie</td>\n",
       "      <td>Biscoe</td>\n",
       "      <td>38.975000</td>\n",
       "    </tr>\n",
       "    <tr>\n",
       "      <th>1</th>\n",
       "      <td>Adelie</td>\n",
       "      <td>Dream</td>\n",
       "      <td>38.501786</td>\n",
       "    </tr>\n",
       "    <tr>\n",
       "      <th>2</th>\n",
       "      <td>Adelie</td>\n",
       "      <td>Torgersen</td>\n",
       "      <td>39.046576</td>\n",
       "    </tr>\n",
       "    <tr>\n",
       "      <th>3</th>\n",
       "      <td>Chinstrap</td>\n",
       "      <td>Dream</td>\n",
       "      <td>48.833824</td>\n",
       "    </tr>\n",
       "    <tr>\n",
       "      <th>4</th>\n",
       "      <td>Gentoo</td>\n",
       "      <td>Biscoe</td>\n",
       "      <td>47.475983</td>\n",
       "    </tr>\n",
       "  </tbody>\n",
       "</table>\n",
       "</div>"
      ],
      "text/plain": [
       "     species     island  bill length\n",
       "0     Adelie     Biscoe    38.975000\n",
       "1     Adelie      Dream    38.501786\n",
       "2     Adelie  Torgersen    39.046576\n",
       "3  Chinstrap      Dream    48.833824\n",
       "4     Gentoo     Biscoe    47.475983"
      ]
     },
     "execution_count": 12,
     "metadata": {},
     "output_type": "execute_result"
    }
   ],
   "source": [
    "cleaned_df.groupby(['species', 'island'])['bill_length_mm'].mean().reset_index(name='bill length')"
   ]
  },
  {
   "cell_type": "markdown",
   "id": "f52719da-8a45-44c5-aae9-a28034f684f5",
   "metadata": {},
   "source": [
    "<h3>Insight No. 7: </h3>\n",
    "<p>The Chinstrap-Dream combination shows the largest average bill length at 48.833824. This suggests that Chinstrap penguins on Dream island may have a distinct physical characteristic, possibly influenced by environmental or genetic factors, compared to other species-island combinations.</p>"
   ]
  },
  {
   "cell_type": "markdown",
   "id": "e976af55-121b-4c70-aa0c-761018c478e4",
   "metadata": {},
   "source": [
    "<h1>Question No. 8: What is the distribution of penguin species across the three years (2007–2009)?</h1>"
   ]
  },
  {
   "cell_type": "code",
   "execution_count": 13,
   "id": "a283f34b-2019-40af-9b7b-10ba191fa719",
   "metadata": {},
   "outputs": [
    {
     "data": {
      "text/html": [
       "<div>\n",
       "<style scoped>\n",
       "    .dataframe tbody tr th:only-of-type {\n",
       "        vertical-align: middle;\n",
       "    }\n",
       "\n",
       "    .dataframe tbody tr th {\n",
       "        vertical-align: top;\n",
       "    }\n",
       "\n",
       "    .dataframe thead th {\n",
       "        text-align: right;\n",
       "    }\n",
       "</style>\n",
       "<table border=\"1\" class=\"dataframe\">\n",
       "  <thead>\n",
       "    <tr style=\"text-align: right;\">\n",
       "      <th></th>\n",
       "      <th>year</th>\n",
       "      <th>species</th>\n",
       "      <th>count</th>\n",
       "    </tr>\n",
       "  </thead>\n",
       "  <tbody>\n",
       "    <tr>\n",
       "      <th>0</th>\n",
       "      <td>2007</td>\n",
       "      <td>Adelie</td>\n",
       "      <td>50</td>\n",
       "    </tr>\n",
       "    <tr>\n",
       "      <th>1</th>\n",
       "      <td>2007</td>\n",
       "      <td>Chinstrap</td>\n",
       "      <td>26</td>\n",
       "    </tr>\n",
       "    <tr>\n",
       "      <th>2</th>\n",
       "      <td>2007</td>\n",
       "      <td>Gentoo</td>\n",
       "      <td>34</td>\n",
       "    </tr>\n",
       "    <tr>\n",
       "      <th>3</th>\n",
       "      <td>2008</td>\n",
       "      <td>Adelie</td>\n",
       "      <td>50</td>\n",
       "    </tr>\n",
       "    <tr>\n",
       "      <th>4</th>\n",
       "      <td>2008</td>\n",
       "      <td>Chinstrap</td>\n",
       "      <td>18</td>\n",
       "    </tr>\n",
       "    <tr>\n",
       "      <th>5</th>\n",
       "      <td>2008</td>\n",
       "      <td>Gentoo</td>\n",
       "      <td>46</td>\n",
       "    </tr>\n",
       "    <tr>\n",
       "      <th>6</th>\n",
       "      <td>2009</td>\n",
       "      <td>Adelie</td>\n",
       "      <td>52</td>\n",
       "    </tr>\n",
       "    <tr>\n",
       "      <th>7</th>\n",
       "      <td>2009</td>\n",
       "      <td>Chinstrap</td>\n",
       "      <td>24</td>\n",
       "    </tr>\n",
       "    <tr>\n",
       "      <th>8</th>\n",
       "      <td>2009</td>\n",
       "      <td>Gentoo</td>\n",
       "      <td>44</td>\n",
       "    </tr>\n",
       "  </tbody>\n",
       "</table>\n",
       "</div>"
      ],
      "text/plain": [
       "   year    species  count\n",
       "0  2007     Adelie     50\n",
       "1  2007  Chinstrap     26\n",
       "2  2007     Gentoo     34\n",
       "3  2008     Adelie     50\n",
       "4  2008  Chinstrap     18\n",
       "5  2008     Gentoo     46\n",
       "6  2009     Adelie     52\n",
       "7  2009  Chinstrap     24\n",
       "8  2009     Gentoo     44"
      ]
     },
     "execution_count": 13,
     "metadata": {},
     "output_type": "execute_result"
    }
   ],
   "source": [
    "cleaned_df[['year', 'species']].groupby(['year', 'species']).size().reset_index(name='count')"
   ]
  },
  {
   "cell_type": "markdown",
   "id": "d4e1dbf6-61ae-488a-8476-f829e071b704",
   "metadata": {},
   "source": [
    "<h3>Insight No. 8:</h3>\n",
    "<p>The number of penguin species (Adelie, Chinstrap, and Gentoo) remain  stable from 2007 to 2009 with minor difference, where Adelie penguins consistently show the highest numbers (50 in 2007, 50 in 2008, 52 in 2009), suggesting a stable or slightly growing population, while Chinstrap penguins have the lowest counts with a drop from 26 in 2007 to 18 in 2008 before rising to 24 in 2009, and Gentoo penguins exhibit a moderate count increasing from 34 in 2007 to 46 in 2008 then slightly decreasing to 44 in 2009; overall, the total population across all three species ranges between 100-120 penguins per year, indicating a balanced ecosystem with no significant changes over the three-year period.</p>"
   ]
  },
  {
   "cell_type": "markdown",
   "id": "4d5da305-95a3-4ffe-b49c-c3c8ca1e8b22",
   "metadata": {},
   "source": [
    "<h1>Question No. 9: What year had the highest recorded average bill depth across all species?</h1>"
   ]
  },
  {
   "cell_type": "code",
   "execution_count": 14,
   "id": "a76a4537-c0e9-4caa-a878-7ccfd6eb8b72",
   "metadata": {},
   "outputs": [
    {
     "data": {
      "text/html": [
       "<div>\n",
       "<style scoped>\n",
       "    .dataframe tbody tr th:only-of-type {\n",
       "        vertical-align: middle;\n",
       "    }\n",
       "\n",
       "    .dataframe tbody tr th {\n",
       "        vertical-align: top;\n",
       "    }\n",
       "\n",
       "    .dataframe thead th {\n",
       "        text-align: right;\n",
       "    }\n",
       "</style>\n",
       "<table border=\"1\" class=\"dataframe\">\n",
       "  <thead>\n",
       "    <tr style=\"text-align: right;\">\n",
       "      <th></th>\n",
       "      <th>year</th>\n",
       "      <th>bill_depth_mm</th>\n",
       "    </tr>\n",
       "  </thead>\n",
       "  <tbody>\n",
       "    <tr>\n",
       "      <th>0</th>\n",
       "      <td>2007</td>\n",
       "      <td>17.425011</td>\n",
       "    </tr>\n",
       "    <tr>\n",
       "      <th>1</th>\n",
       "      <td>2008</td>\n",
       "      <td>16.914035</td>\n",
       "    </tr>\n",
       "    <tr>\n",
       "      <th>2</th>\n",
       "      <td>2009</td>\n",
       "      <td>17.125426</td>\n",
       "    </tr>\n",
       "  </tbody>\n",
       "</table>\n",
       "</div>"
      ],
      "text/plain": [
       "   year  bill_depth_mm\n",
       "0  2007      17.425011\n",
       "1  2008      16.914035\n",
       "2  2009      17.125426"
      ]
     },
     "execution_count": 14,
     "metadata": {},
     "output_type": "execute_result"
    }
   ],
   "source": [
    "cleaned_df.groupby('year')['bill_depth_mm'].mean().reset_index()"
   ]
  },
  {
   "cell_type": "markdown",
   "id": "484051a6-72e9-4d5e-99dd-f5ed8fcee087",
   "metadata": {},
   "source": [
    "<h3>Insight No. 9:</h3>\n",
    "<p> 2007 has the highest recorded average bill depth with an average of 17.43mm per penguin</p>"
   ]
  },
  {
   "cell_type": "markdown",
   "id": "eacf5604-598e-4ed1-86c8-dfe62e68ba16",
   "metadata": {},
   "source": [
    "<h1>Question No.10: Is there a significant change in average body mass or bill length of penguins across the years 2007–2009?</h1>"
   ]
  },
  {
   "cell_type": "code",
   "execution_count": 15,
   "id": "eda356ba-7e3e-48cd-9b1b-4489a922322f",
   "metadata": {},
   "outputs": [
    {
     "data": {
      "text/plain": [
       "F_onewayResult(statistic=np.float64(0.8997826656141361), pvalue=np.float64(0.40762128193132396))"
      ]
     },
     "execution_count": 15,
     "metadata": {},
     "output_type": "execute_result"
    }
   ],
   "source": [
    "df_2007 = cleaned_df[cleaned_df['year'] == 2007]\n",
    "df_2008 = cleaned_df[cleaned_df['year'] == 2008]\n",
    "df_2009 = cleaned_df[cleaned_df['year'] == 2009]\n",
    "f_oneway(df_2007['body_mass_g'], df_2008['body_mass_g'], df_2009['body_mass_g'])\n",
    "f_oneway(df_2007['bill_length_mm'], df_2008['bill_length_mm'], df_2009['bill_length_mm'])"
   ]
  },
  {
   "cell_type": "markdown",
   "id": "8a30c241-859a-4b80-b880-9e2f071b5d5f",
   "metadata": {},
   "source": [
    "<h2>Insight No. 10: </h2>\n",
    "<p>There is no significant change in both bil length and body mass across the years 2007, 2008, 2009 </p>"
   ]
  },
  {
   "cell_type": "markdown",
   "id": "bc439818-43aa-451e-9516-258feb49e9db",
   "metadata": {},
   "source": [
    "<h1>Question No. 11: What is the relationship between flipper length and body mass (correlation) for penguins overall?</h1>"
   ]
  },
  {
   "cell_type": "code",
   "execution_count": 16,
   "id": "a67c9f6b-8c3e-4805-89d5-50ca2729e5c3",
   "metadata": {},
   "outputs": [
    {
     "data": {
      "text/plain": [
       "np.float64(0.8712017673060114)"
      ]
     },
     "execution_count": 16,
     "metadata": {},
     "output_type": "execute_result"
    }
   ],
   "source": [
    "cleaned_df['flipper_length_mm'].corr(cleaned_df['body_mass_g'])"
   ]
  },
  {
   "cell_type": "markdown",
   "id": "ddf65d3d-c8e1-4ad5-b128-d5b65652f792",
   "metadata": {},
   "source": [
    "<h3>Insight No. 11: </h3>\n",
    "<p>The correlation between flipper length and body mass is approximately 0.87, indicating a strong positive relationship. This suggests that as penguins' flipper length increases, their body mass also tends to increase.</p>"
   ]
  },
  {
   "cell_type": "markdown",
   "id": "83df7514-5cac-4468-a5e0-a044eb66a8c0",
   "metadata": {},
   "source": [
    "<h1>Question No.12: What is the average body mass for each species of penguin, broken down by island and sex?</h1>"
   ]
  },
  {
   "cell_type": "code",
   "execution_count": 19,
   "id": "7977ac67-996a-4095-9ae2-19771e5bba04",
   "metadata": {},
   "outputs": [
    {
     "data": {
      "text/plain": [
       "species    island     sex   \n",
       "Adelie     Biscoe     female    3369.318182\n",
       "                      male      4050.000000\n",
       "           Dream      female    3344.444444\n",
       "                      male      4008.620690\n",
       "           Torgersen  female    3395.833333\n",
       "                      male      3990.241228\n",
       "Chinstrap  Dream      female    3527.205882\n",
       "                      male      3938.970588\n",
       "Gentoo     Biscoe     female    4679.741379\n",
       "                      male      5411.011430\n",
       "Name: body_mass_g, dtype: float64"
      ]
     },
     "execution_count": 19,
     "metadata": {},
     "output_type": "execute_result"
    }
   ],
   "source": [
    "cleaned_df.groupby(['species', 'island', 'sex'])['body_mass_g'].mean()"
   ]
  },
  {
   "cell_type": "markdown",
   "id": "80453cf6-360a-4ec8-b287-909937af0ef3",
   "metadata": {},
   "source": [
    "<h3>Insight No. 12: </h3>\n",
    "<p>Male penguins generally have a higher average body mass than female penguins across all species and islands. Also, Gentoo penguins have a significantly larger average body mass compared to Adelie and Chinstrap penguins.</p>"
   ]
  }
 ],
 "metadata": {
  "kernelspec": {
   "display_name": "Python 3 (ipykernel)",
   "language": "python",
   "name": "python3"
  },
  "language_info": {
   "codemirror_mode": {
    "name": "ipython",
    "version": 3
   },
   "file_extension": ".py",
   "mimetype": "text/x-python",
   "name": "python",
   "nbconvert_exporter": "python",
   "pygments_lexer": "ipython3",
   "version": "3.13.7"
  }
 },
 "nbformat": 4,
 "nbformat_minor": 5
}
